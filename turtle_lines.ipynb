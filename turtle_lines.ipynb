{
 "cells": [
  {
   "cell_type": "code",
   "execution_count": 18,
   "metadata": {},
   "outputs": [],
   "source": [
    "# !pip install turtle\n",
    "# !pip install scipy\n",
    "# !pip install ghostscript\n",
    "# !pip install pillow\n",
    "# !conda install numpy\n",
    "# # !conda update -n base -c defaults conda"
   ]
  },
  {
   "cell_type": "code",
   "execution_count": 19,
   "metadata": {},
   "outputs": [],
   "source": [
    "import random\n",
    "import math\n",
    "import os\n",
    "import numpy as np\n",
    "from PIL import Image\n",
    "from turtle import *\n"
   ]
  },
  {
   "cell_type": "code",
   "execution_count": 20,
   "metadata": {},
   "outputs": [],
   "source": [
    "def shitty_rainbow(red, green, blue, step=5):\n",
    "        if red > 0 and green < 256 and blue == 0:\n",
    "            red -= step\n",
    "            green += step\n",
    "            if red < step:\n",
    "                red = 0\n",
    "        if green > 0 and blue < 256 and red == 0:\n",
    "            green -= step\n",
    "            blue += step\n",
    "            if green < step:\n",
    "                green = 0\n",
    "        if blue > 0 and red < 256 and green == 0:\n",
    "            blue -= step\n",
    "            red += step\n",
    "            if blue < step:\n",
    "                blue = 0\n",
    "\n",
    "        return [red, green, blue]\n",
    "\n",
    "def good_rainbow(color1, color2, step):\n",
    "    r = int((1 - step) * color1[0] + step * color2[0])\n",
    "    g = int((1 - step) * color1[1] + step * color2[1])\n",
    "    b = int((1 - step) * color1[2] + step * color2[2])\n",
    "    return r, g, b"
   ]
  },
  {
   "cell_type": "code",
   "execution_count": 21,
   "metadata": {},
   "outputs": [],
   "source": [
    "class Color:\n",
    "    def __init__(self, red=0, green=0, blue=0):\n",
    "        self.r = red % 256\n",
    "        self.g = green % 256\n",
    "        self.b = blue % 256\n",
    "\n",
    "    def get_colors(self):\n",
    "        self.update_color()\n",
    "        return self.r, self.g, self.b\n",
    "\n",
    "    def set_colors(self, red, green, blue):\n",
    "        self.r = red % 256\n",
    "        self.g = green % 256\n",
    "        self.b = blue % 256\n",
    "\n",
    "    def update_color(self, f=lambda x:x):\n",
    "        self.set_colors(f(self.r), f(self.g), f(self.b))\n",
    "\n",
    "class Same_color(Color):\n",
    "    def __init__(self, red=0, green=0, blue=0):\n",
    "        super().__init__(red, green, blue)\n",
    "\n",
    "    def get_colors(self):\n",
    "        return super().get_colors()\n",
    "\n",
    "    def set_colors(self, red, green, blue):\n",
    "        return super().set_colors(red, green, blue)\n",
    "\n",
    "    def update_color(self):\n",
    "        new_color = [self.r, self.g, self.b]\n",
    "        self.set_colors(*new_color)\n",
    "\n",
    "class Rainbow(Color):\n",
    "    def __init__(self, red=0, green=0, blue=0):\n",
    "        super().__init__(red, green, blue)\n",
    "\n",
    "    def get_colors(self):\n",
    "        return super().get_colors()\n",
    "\n",
    "    def set_colors(self, red, green, blue):\n",
    "        return super().set_colors(red, green, blue)\n",
    "\n",
    "    def update_color(self):\n",
    "        new_color = shitty_rainbow(self.r, self.g, self.b)\n",
    "        self.set_colors(*new_color)\n",
    "\n",
    "class Good_rainbow(Color):\n",
    "    colors = [(128, 128, 200), (31, 216, 205), (127, 221, 115),\n",
    "              (254, 186, 0), (255, 93, 85), (255, 0, 170)]\n",
    "    index = 0\n",
    "    count = 0\n",
    "    def __init__(self, red=0, green=0, blue=0, step = 10):\n",
    "        self.step = step\n",
    "        super().__init__(red, green, blue)\n",
    "\n",
    "    def get_colors(self):\n",
    "        return super().get_colors()\n",
    "\n",
    "    def set_colors(self, red, green, blue):\n",
    "        return super().set_colors(red, green, blue)\n",
    "\n",
    "    def update_color(self):\n",
    "        color2 = self.colors[self.index]\n",
    "        color1 = self.colors[self.index + 1 if self.index <= 4 else 0]\n",
    "        self.count += 1\n",
    "        if self.count > self.step:\n",
    "            self.count = 0\n",
    "            self.index = self.index + 1 if self.index <= 4 else 0\n",
    "        new_color = good_rainbow(color1, color2, 0 if self.count == 0 else 1 / self.count)\n",
    "        self.set_colors(*new_color)\n",
    "\n",
    "class Cherry(Color):\n",
    "    max_depth = -1\n",
    "    flowers = [(222, 136, 149), (240, 168, 179), (241, 176, 186), (243, 190, 198), (246, 206, 212), (248, 214, 220)]\n",
    "    bark = [(86, 73, 78), (96, 69, 76), (106, 65, 73)]\n",
    "\n",
    "    def __init__(self, red=0, green=0, blue=0, depth=10):\n",
    "        super().__init__(red, green, blue)\n",
    "        depth = depth\n",
    "\n",
    "    def get_colors(self, depth):\n",
    "        proportion = depth / self.max_depth\n",
    "        if proportion > 0.6:\n",
    "            choice = random.choices(self.bark, weights=[2, 1, 1])[0]\n",
    "        elif proportion > 0.5:\n",
    "            choice = random.choices(self.bark + self.flowers, weights=[1, 3, 3, 2, 1, 1, 1, 1, 1], k=1)[0]\n",
    "        else:\n",
    "            choice = random.choices(self.flowers, weights=[1, 1, 2, 2, 3, 3], k=1)[0]\n",
    "\n",
    "\n",
    "\n",
    "        red = choice[0]\n",
    "        green = choice[1]\n",
    "        blue = choice[2]\n",
    "        return red, green, blue"
   ]
  },
  {
   "cell_type": "code",
   "execution_count": 22,
   "metadata": {},
   "outputs": [],
   "source": [
    "default_palette = Color(240, 168, 179)\n",
    "rainbow_palette = Rainbow(0,0,255)\n",
    "good_rainbow_palette = Good_rainbow(step=10)\n",
    "cherry_palette = Cherry()\n",
    "one_color_palette = Same_color(255, 255, 255)\n"
   ]
  },
  {
   "cell_type": "code",
   "execution_count": 23,
   "metadata": {},
   "outputs": [],
   "source": [
    "def dandelion(centre=(0,0), steps=27, length=70, palette=default_palette):\n",
    "    dgr = 360 / steps\n",
    "    for i in range(steps):\n",
    "        up()\n",
    "        goto(centre)\n",
    "        down()\n",
    "        color(palette.get_colors())\n",
    "        left(dgr)\n",
    "        forward(length)\n",
    "\n"
   ]
  },
  {
   "cell_type": "code",
   "execution_count": 24,
   "metadata": {},
   "outputs": [],
   "source": [
    "def flower_power(start, length_inner, length_outer, precision, palette, count=None):\n",
    "    color(palette.get_colors())\n",
    "    if count == None:\n",
    "        flower_power(start, length_inner, length_outer, precision, palette, length_inner / (length_outer - length_inner))\n",
    "    elif count > 0:\n",
    "        fillcolor(palette.get_colors())\n",
    "        begin_fill()\n",
    "        up()\n",
    "        goto(start)\n",
    "        down()\n",
    "\n",
    "        points_inner = [(length_inner * math.cos(tetha),\n",
    "                length_inner * math.sin(tetha))\n",
    "                for tetha in [math.pi * 2 * x / precision for x in range(1, precision + 1)]]\n",
    "        points_outer = [(length_outer * math.cos(tetha),\n",
    "                length_outer * math.sin(tetha))\n",
    "                for tetha in [math.pi * 2 * x / precision for x in range(1, precision + 1)]]\n",
    "\n",
    "\n",
    "        for i in list(range(len(points_inner))):\n",
    "            up()\n",
    "            goto(points_inner[i])\n",
    "            down()\n",
    "            goto(points_outer[i])\n",
    "\n",
    "            i_next = i + 1 if i + 1 < len(points_inner) else 0\n",
    "\n",
    "            r = math.sqrt((points_outer[i][0] - points_outer[i_next][0]) ** 2 +\n",
    "                    (points_outer[i][1] - points_outer[i_next][1]) ** 2) / 2\n",
    "\n",
    "            tetha = math.atan2(points_outer[i][1], points_outer[i][0]) - math.pi / 2 + math.pi / 8\n",
    "            tetha_next = tetha + math.pi\n",
    "\n",
    "\n",
    "            curve = [(r * math.cos(angle) + (points_outer[i][0] + points_outer[i_next][0]) / 2,\n",
    "                r * math.sin(angle) + (points_outer[i][1] + points_outer[i_next][1]) / 2)\n",
    "                for angle in [(tetha * (10 - x) + tetha_next * x) / 10 for x in range(0, 11)]]\n",
    "\n",
    "            for point in curve:\n",
    "                goto(point)\n",
    "\n",
    "        end_fill()\n",
    "        flower_power(start, length_inner - (length_outer - length_inner), length_inner, precision, palette, count - 1)\n"
   ]
  },
  {
   "cell_type": "code",
   "execution_count": 25,
   "metadata": {},
   "outputs": [],
   "source": [
    "def tree(start, length, angle, depth, palette, noise=True, noise_amount=0.1, complemantary=True):\n",
    "    if type(palette).__name__ == Cherry.__name__:\n",
    "        color(palette.get_colors(depth))\n",
    "    else:\n",
    "        color(palette.get_colors())\n",
    "    up()\n",
    "    goto(start)\n",
    "    left(90)\n",
    "    down()\n",
    "    width(depth + 2)\n",
    "    noise = random.random() * length * noise_amount\n",
    "    forward(length + noise)\n",
    "    # turtle.setheading(0)\n",
    "    new_start = pos()\n",
    "    noise = random.random() * angle * noise_amount\n",
    "    draw_branch(new_start, length * 0.7, angle + noise, 0, depth - 1, palette, noise)\n",
    "    seth(90)\n",
    "    noise = random.random() * angle * noise_amount\n",
    "    if complemantary:\n",
    "        draw_branch(new_start, length * 0.7, 90 - angle + noise, 1, depth - 1, palette, noise)\n",
    "    else:\n",
    "        draw_branch(new_start, length * 0.7, angle + noise, 1, depth - 1, palette, noise)\n",
    "\n",
    "def draw_branch(start, length, angle, direction, depth, palette, noise=True,noise_amount=0.1, complemantary=True):\n",
    "    if depth == 0:\n",
    "        return\n",
    "    width(depth + 2)\n",
    "    if type(palette).__name__ == Cherry.__name__:\n",
    "        color(palette.get_colors(depth))\n",
    "    else:\n",
    "        color(palette.get_colors())\n",
    "    goto(start)\n",
    "    down()\n",
    "    if direction == 0:\n",
    "        left(angle)\n",
    "    else:\n",
    "        right(angle)\n",
    "    noise = random.random() * length * noise_amount\n",
    "    forward(length + noise)\n",
    "    new_start = pos()\n",
    "    new_angle = heading()\n",
    "    up()\n",
    "    noise = random.random() * angle * noise_amount\n",
    "    draw_branch(new_start, length * 0.7, angle + noise, 0, depth - 1, palette, noise)\n",
    "    seth(new_angle)\n",
    "    noise = random.random() * angle * noise_amount\n",
    "\n",
    "    if complemantary:\n",
    "        draw_branch(new_start, length * 0.7, 90 - angle + noise, 1, depth - 1, palette, noise)\n",
    "    else:\n",
    "        draw_branch(new_start, length * 0.7, angle + noise, 1, depth - 1, palette, noise)\n"
   ]
  },
  {
   "cell_type": "code",
   "execution_count": 26,
   "metadata": {},
   "outputs": [],
   "source": [
    "def triunghiul_psihedelic(start, length, palette=default_palette):\n",
    "    color(palette.get_colors())\n",
    "    up()\n",
    "    goto(start)\n",
    "\n",
    "    left(60)\n",
    "    down()\n",
    "    triunghi_go_brr(length, 0, palette)\n",
    "\n",
    "def triunghi_go_brr(length, count, palette=default_palette):\n",
    "    color(palette.get_colors())\n",
    "    forward(length)\n",
    "\n",
    "    if count < 105:\n",
    "        left(120 * 0.995)\n",
    "        triunghi_go_brr(length * 0.98267, count + 1, palette)"
   ]
  },
  {
   "cell_type": "markdown",
   "metadata": {},
   "source": [
    "random dandelions"
   ]
  },
  {
   "cell_type": "code",
   "execution_count": null,
   "metadata": {},
   "outputs": [],
   "source": [
    "dandelion_steps = 27\n",
    "dandelion_length = 100\n",
    "dandelion_number = 50\n",
    "file_name = 'dandelions.ps'"
   ]
  },
  {
   "cell_type": "code",
   "execution_count": null,
   "metadata": {},
   "outputs": [],
   "source": [
    "(screen_width, screen_heigth) = screensize()\n",
    "colormode(cmode=255)\n",
    "width(3)\n",
    "speed(1000)\n",
    "hideturtle()\n",
    "for _ in range(dandelion_number):\n",
    "    # dandelion((random.randint(-screen_width, screen_width), random.randint(-screen_heigth, screen_heigth)),\n",
    "    #            dandelion_steps, dandelion_length, rainbow_palette)\n",
    "    dandelion((random.randint(-screen_width, screen_width), random.randint(-screen_heigth, screen_heigth)),\n",
    "               dandelion_steps, dandelion_length, good_rainbow_palette)\n",
    "\n",
    "canvas = getcanvas()\n",
    "\n",
    "if canvas is None:\n",
    "    print(\"Failed to retrieve canvas object\")\n",
    "\n",
    "canvas.postscript(file=file_name)\n",
    "exitonclick()"
   ]
  },
  {
   "cell_type": "markdown",
   "metadata": {},
   "source": [
    "full random flowers"
   ]
  },
  {
   "cell_type": "code",
   "execution_count": null,
   "metadata": {},
   "outputs": [],
   "source": [
    "flower_precision = 75\n",
    "flower_length_inner = 765\n",
    "flower_length_outer = 790\n",
    "flower_count = None\n",
    "file_name = 'output/flower_power_2.ps'"
   ]
  },
  {
   "cell_type": "code",
   "execution_count": null,
   "metadata": {},
   "outputs": [],
   "source": [
    "(screen_width, screen_heigth) = screensize()\n",
    "colormode(cmode=255)\n",
    "width(3)\n",
    "speed(1000)\n",
    "hideturtle()\n",
    "# flower_power((0,0), flower_length_inner, flower_length_outer, flower_precision, rainbow_palette)\n",
    "flower_power((0,0), flower_length_inner, flower_length_outer, flower_precision, good_rainbow_palette)\n",
    "\n",
    "canvas = getcanvas()\n",
    "\n",
    "if canvas is None:\n",
    "    print(\"Failed to retrieve canvas object\")\n",
    "\n",
    "canvas.postscript(file=file_name)\n",
    "exitonclick()"
   ]
  },
  {
   "cell_type": "markdown",
   "metadata": {},
   "source": [
    "fractal rainbow tree with no noise and perfect symmetry "
   ]
  },
  {
   "cell_type": "code",
   "execution_count": null,
   "metadata": {},
   "outputs": [],
   "source": [
    "file_name = 'output/tree_no_noise_symmetry.ps'\n",
    "\n",
    "(screen_width, screen_heigth) = screensize()\n",
    "colormode(cmode=255)\n",
    "width(3)\n",
    "speed(1000)\n",
    "hideturtle()\n",
    "# tree((0, -250), 150, 45, 11, rainbow_palette, noise_amount=0)\n",
    "tree((0, -250), 150, 45, 11, good_rainbow_palette, noise_amount=0)\n",
    "canvas = getcanvas()\n",
    "\n",
    "if canvas is None:\n",
    "    print(\"Failed to retrieve canvas object\")\n",
    "\n",
    "canvas.postscript(file=file_name)\n",
    "exitonclick()\n"
   ]
  },
  {
   "cell_type": "markdown",
   "metadata": {},
   "source": [
    "fractal rainbow tree with no noise and no symmetry "
   ]
  },
  {
   "cell_type": "code",
   "execution_count": null,
   "metadata": {},
   "outputs": [],
   "source": [
    "file_name = 'output/tree_no_noise_no_symmetry.ps'\n",
    "\n",
    "(screen_width, screen_heigth) = screensize()\n",
    "colormode(cmode=255)\n",
    "width(3)\n",
    "speed(1000)\n",
    "hideturtle()\n",
    "# tree((0, -250), 150, 30, 11, rainbow_palette, noise_amount=0)\n",
    "tree((0, -250), 150, 30, 11, good_rainbow_palette, noise_amount=0)\n",
    "canvas = getcanvas()\n",
    "\n",
    "if canvas is None:\n",
    "    print(\"Failed to retrieve canvas object\")\n",
    "\n",
    "canvas.postscript(file=file_name)\n",
    "exitonclick()\n"
   ]
  },
  {
   "cell_type": "markdown",
   "metadata": {},
   "source": [
    "fractal rainbow tree with noise and no symmetry "
   ]
  },
  {
   "cell_type": "code",
   "execution_count": null,
   "metadata": {},
   "outputs": [],
   "source": [
    "file_name = 'output/tree_noise_no_symmetry.ps'\n",
    "\n",
    "(screen_width, screen_heigth) = screensize()\n",
    "colormode(cmode=255)\n",
    "width(3)\n",
    "speed(1000)\n",
    "hideturtle()\n",
    "# tree((0, -250), 150, 30, 11, rainbow_palette, noise_amount=0.3)\n",
    "tree((0, -250), 150, 30, 11, good_rainbow_palette, noise_amount=0.3)\n",
    "canvas = getcanvas()\n",
    "\n",
    "if canvas is None:\n",
    "    print(\"Failed to retrieve canvas object\")\n",
    "\n",
    "canvas.postscript(file=file_name)\n",
    "exitonclick()\n"
   ]
  },
  {
   "cell_type": "markdown",
   "metadata": {},
   "source": [
    "fractal rainbow tree with noise and no symmetry no complementary angles"
   ]
  },
  {
   "cell_type": "code",
   "execution_count": null,
   "metadata": {},
   "outputs": [],
   "source": [
    "file_name = 'output/tree_noise_no_symmetry_no_comp.ps'\n",
    "\n",
    "(screen_width, screen_heigth) = screensize()\n",
    "colormode(cmode=255)\n",
    "width(3)\n",
    "speed(1000)\n",
    "hideturtle()\n",
    "# tree((0, -250), 150, 30, 11, rainbow_palette, noise_amount=0.3, complemantary=False)\n",
    "tree((0, -250), 150, 30, 11, good_rainbow_palette, noise_amount=0.3, complemantary=False)\n",
    "canvas = getcanvas()\n",
    "\n",
    "if canvas is None:\n",
    "    print(\"Failed to retrieve canvas object\")\n",
    "\n",
    "canvas.postscript(file=file_name)\n",
    "exitonclick()\n"
   ]
  },
  {
   "cell_type": "markdown",
   "metadata": {},
   "source": [
    "fractal CHERRY BLOSSOM tree with noise and no symmetry "
   ]
  },
  {
   "cell_type": "code",
   "execution_count": null,
   "metadata": {},
   "outputs": [],
   "source": [
    "file_name = 'output/CHERRY_tree_noise_no_symmetry.ps'\n",
    "cherry_palette.max_depth = 11\n",
    "(screen_width, screen_heigth) = screensize()\n",
    "colormode(cmode=255)\n",
    "width(3)\n",
    "speed(1000)\n",
    "hideturtle()\n",
    "tree((0, -250), 150, 30, 11, cherry_palette, noise_amount=0.3)\n",
    "canvas = getcanvas()\n",
    "\n",
    "if canvas is None:\n",
    "    print(\"Failed to retrieve canvas object\")\n",
    "\n",
    "canvas.postscript(file=file_name)\n",
    "exitonclick()\n"
   ]
  },
  {
   "cell_type": "markdown",
   "metadata": {},
   "source": [
    "triangle"
   ]
  },
  {
   "cell_type": "code",
   "execution_count": null,
   "metadata": {},
   "outputs": [],
   "source": [
    "file_name = 'output/triangle.ps'\n",
    "\n",
    "(screen_width, screen_heigth) = screensize()\n",
    "colormode(cmode=255)\n",
    "width(10)\n",
    "speed(1000)\n",
    "hideturtle()\n",
    "triunghiul_psihedelic((0,-300), 700, good_rainbow_palette)\n",
    "canvas = getcanvas()\n",
    "\n",
    "if canvas is None:\n",
    "    print(\"Failed to retrieve canvas object\")\n",
    "\n",
    "canvas.postscript(file=file_name)\n",
    "exitonclick()\n"
   ]
  },
  {
   "cell_type": "markdown",
   "metadata": {},
   "source": [
    "composition of flowers, triangle, dandelions and tree"
   ]
  },
  {
   "cell_type": "code",
   "execution_count": 36,
   "metadata": {},
   "outputs": [],
   "source": [
    "file_name = 'output/composition_2.ps'\n",
    "\n",
    "\n",
    "(screen_width, screen_heigth) = screensize()\n",
    "colormode(cmode=255)\n",
    "width(3)\n",
    "speed(1000)\n",
    "hideturtle()\n",
    "flower_power((0,0), 765, 820, 50, good_rainbow_palette)\n",
    "for _ in range(30):\n",
    "    dandelion((random.randint(-screen_width, screen_width), random.randint(-screen_heigth, screen_heigth)),\n",
    "               30, 150, one_color_palette)\n",
    "width(9)\n",
    "triunghiul_psihedelic((0,-300), 700, one_color_palette)\n",
    "\n",
    "tree((0, -250), 150, 30, 11, good_rainbow_palette, noise_amount=0.9)\n",
    "\n",
    "canvas = getcanvas()\n",
    "\n",
    "if canvas is None:\n",
    "    print(\"Failed to retrieve canvas object\")\n",
    "\n",
    "canvas.postscript(file=file_name)\n",
    "exitonclick()"
   ]
  },
  {
   "cell_type": "markdown",
   "metadata": {},
   "source": [
    "Convert all images to pngs"
   ]
  },
  {
   "cell_type": "code",
   "execution_count": 45,
   "metadata": {},
   "outputs": [
    {
     "name": "stdout",
     "output_type": "stream",
     "text": [
      "output/composition.png\n",
      "output/composition_2.png\n"
     ]
    }
   ],
   "source": [
    "to_convert = []\n",
    "for file in os.listdir('output/'):\n",
    "    if '.ps' in file:\n",
    "        to_convert.append('output/' + file)\n",
    "\n",
    "for file in to_convert:\n",
    "    print(file[:-3]+ \".png\")\n",
    "    img = Image.open(file)\n",
    "    img.save(file[:-3] + \".png\")"
   ]
  }
 ],
 "metadata": {
  "kernelspec": {
   "display_name": "Python 3",
   "language": "python",
   "name": "python3"
  },
  "language_info": {
   "codemirror_mode": {
    "name": "ipython",
    "version": 3
   },
   "file_extension": ".py",
   "mimetype": "text/x-python",
   "name": "python",
   "nbconvert_exporter": "python",
   "pygments_lexer": "ipython3",
   "version": "3.10.9"
  }
 },
 "nbformat": 4,
 "nbformat_minor": 2
}
